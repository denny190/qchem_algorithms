{
 "cells": [
  {
   "cell_type": "code",
   "execution_count": 1,
   "metadata": {},
   "outputs": [
    {
     "name": "stdout",
     "output_type": "stream",
     "text": [
      "[(8, 'O', [0.0, 0.0, 0.0]), (1, 'H', [0.0, 0.757, 0.586]), (1, 'H', [0.0, -0.757, 0.586])]\n"
     ]
    }
   ],
   "source": [
    "def read_xyz(file_path):\n",
    "    atomic_numbers = {\n",
    "        'H': 1,\n",
    "        'He': 2,\n",
    "        'Li': 3,\n",
    "        'Be': 4,\n",
    "        'B': 5,\n",
    "        'C': 6,\n",
    "        'N': 7,\n",
    "        'O': 8,\n",
    "        'F': 9,\n",
    "        'Ne': 10\n",
    "        # Add more elements as needed\n",
    "    }\n",
    "    atoms = []\n",
    "    with open(file_path, 'r') as file:\n",
    "        lines = file.readlines()\n",
    "        atom_count = int(lines[0].strip())\n",
    "        for line in lines[2:2+atom_count]:\n",
    "            parts = line.split()\n",
    "            element = parts[0]\n",
    "            coordinates = [float(x) for x in parts[1:4]]\n",
    "            atomic_number = atomic_numbers.get(element, None)\n",
    "            if atomic_number is None:\n",
    "                raise ValueError(f\"Element {element} not recognized.\")\n",
    "            atoms.append((atomic_number, element, coordinates))\n",
    "    return atoms\n",
    "\n",
    "mol = read_xyz('water.xyz')\n",
    "print(mol)"
   ]
  }
 ],
 "metadata": {
  "kernelspec": {
   "display_name": "Python 3",
   "language": "python",
   "name": "python3"
  },
  "language_info": {
   "codemirror_mode": {
    "name": "ipython",
    "version": 3
   },
   "file_extension": ".py",
   "mimetype": "text/x-python",
   "name": "python",
   "nbconvert_exporter": "python",
   "pygments_lexer": "ipython3",
   "version": "3.10.11"
  }
 },
 "nbformat": 4,
 "nbformat_minor": 2
}
